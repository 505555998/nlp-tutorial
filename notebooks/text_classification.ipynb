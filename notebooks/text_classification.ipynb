{
 "cells": [
  {
   "cell_type": "code",
   "execution_count": 1,
   "metadata": {
    "collapsed": true
   },
   "outputs": [],
   "source": [
    "from nltk.corpus import reuters "
   ]
  },
  {
   "cell_type": "markdown",
   "metadata": {
    "collapsed": false
   },
   "source": [
    "Tokenisation"
   ]
  },
  {
   "cell_type": "code",
   "execution_count": null,
   "metadata": {
    "collapsed": true
   },
   "outputs": [],
   "source": [
    "# List of documents\n",
    "documents = reuters.fileids()\n",
    "print(str(len(documents)) + \" documents\");"
   ]
  },
  {
   "cell_type": "code",
   "execution_count": 4,
   "metadata": {
    "collapsed": false
   },
   "outputs": [
    {
     "name": "stdout",
     "output_type": "stream",
     "text": [
      "7769 total train documents\n",
      "3019 total test documents\n"
     ]
    }
   ],
   "source": [
    "train_docs = list(filter(lambda doc: doc.startswith(\"train\"), documents));\n",
    "print(str(len(train_docs)) + \" total train documents\");\n",
    "\n",
    "test_docs = list(filter(lambda doc: doc.startswith(\"test\"), documents));\n",
    "print(str(len(test_docs)) + \" total test documents\");"
   ]
  },
  {
   "cell_type": "code",
   "execution_count": 6,
   "metadata": {
    "collapsed": false
   },
   "outputs": [
    {
     "name": "stdout",
     "output_type": "stream",
     "text": [
      "90 categories\n",
      "['acq', 'alum', 'barley', 'bop', 'carcass', 'castor-oil', 'cocoa', 'coconut', 'coconut-oil', 'coffee', 'copper', 'copra-cake', 'corn', 'cotton', 'cotton-oil', 'cpi', 'cpu', 'crude', 'dfl', 'dlr', 'dmk', 'earn', 'fuel', 'gas', 'gnp', 'gold', 'grain', 'groundnut', 'groundnut-oil', 'heat', 'hog', 'housing', 'income', 'instal-debt', 'interest', 'ipi', 'iron-steel', 'jet', 'jobs', 'l-cattle', 'lead', 'lei', 'lin-oil', 'livestock', 'lumber', 'meal-feed', 'money-fx', 'money-supply', 'naphtha', 'nat-gas', 'nickel', 'nkr', 'nzdlr', 'oat', 'oilseed', 'orange', 'palladium', 'palm-oil', 'palmkernel', 'pet-chem', 'platinum', 'potato', 'propane', 'rand', 'rape-oil', 'rapeseed', 'reserves', 'retail', 'rice', 'rubber', 'rye', 'ship', 'silver', 'sorghum', 'soy-meal', 'soy-oil', 'soybean', 'strategic-metal', 'sugar', 'sun-meal', 'sun-oil', 'sunseed', 'tea', 'tin', 'trade', 'veg-oil', 'wheat', 'wpi', 'yen', 'zinc']\n"
     ]
    }
   ],
   "source": [
    "# List of categories \n",
    "categories = reuters.categories();\n",
    "print(str(len(categories)) + \" categories\");\n",
    "print(categories)"
   ]
  },
  {
   "cell_type": "code",
   "execution_count": 18,
   "metadata": {
    "collapsed": false
   },
   "outputs": [
    {
     "data": {
      "text/plain": [
       "[['earn', 3964],\n",
       " ['acq', 2369],\n",
       " ['money-fx', 717],\n",
       " ['grain', 582],\n",
       " ['crude', 578],\n",
       " ['trade', 485],\n",
       " ['interest', 478],\n",
       " ['ship', 286],\n",
       " ['wheat', 283],\n",
       " ['corn', 237]]"
      ]
     },
     "execution_count": 18,
     "metadata": {},
     "output_type": "execute_result"
    }
   ],
   "source": [
    "# Documents in a category\n",
    "category_docs = reuters.fileids(\"acq\");\n",
    "\n",
    "# Documents per category. TODO: Lambdas too complex?\n",
    "category_distribution = sorted([[category, len(reuters.fileids(category))] for category in categories], \n",
    "                               key=lambda item:item[1], \n",
    "                                reverse=True)\n",
    "category_distribution[:10]"
   ]
  },
  {
   "cell_type": "code",
   "execution_count": null,
   "metadata": {
    "collapsed": true
   },
   "outputs": [],
   "source": [
    "# Words for a document\n",
    "document_id = category_docs[0]\n",
    "document_words = reuters.words(category_docs[0]);\n",
    "\n",
    "print(document_words);\n",
    "\n",
    "# Raw document\n",
    "print(reuters.raw(document_id));"
   ]
  }
 ],
 "metadata": {
  "kernelspec": {
   "display_name": "Python 3",
   "language": "python",
   "name": "python3"
  },
  "language_info": {
   "codemirror_mode": {
    "name": "ipython",
    "version": 3
   },
   "file_extension": ".py",
   "mimetype": "text/x-python",
   "name": "python",
   "nbconvert_exporter": "python",
   "pygments_lexer": "ipython3",
   "version": "3.5.1"
  }
 },
 "nbformat": 4,
 "nbformat_minor": 0
}
