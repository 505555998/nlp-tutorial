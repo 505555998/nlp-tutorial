{
 "cells": [
  {
   "cell_type": "code",
   "execution_count": 1,
   "metadata": {
    "collapsed": true
   },
   "outputs": [],
   "source": [
    "from nltk.corpus import reuters\n",
    "from sklearn.feature_extraction.text import TfidfVectorizer\n",
    "from sklearn.preprocessing import MultiLabelBinarizer\n",
    "from sklearn.svm import LinearSVC\n",
    "from sklearn.cross_validation import cross_val_score\n",
    "from sklearn.multiclass import OneVsRestClassifier\n",
    "from pprint import pprint\n",
    "from nltk.corpus import stopwords"
   ]
  },
  {
   "cell_type": "code",
   "execution_count": 2,
   "metadata": {
    "collapsed": true
   },
   "outputs": [],
   "source": [
    "# Function to show the feature weights of a document (to be explained later)\n",
    "def feature_values(doc, representer):\n",
    "    doc_representation = representer.transform([doc])\n",
    "    features = representer.get_feature_names()\n",
    "    return [(features[index], doc_representation[0, index]) for index in doc_representation.nonzero()[1]]"
   ]
  },
  {
   "cell_type": "markdown",
   "metadata": {},
   "source": [
    "# (Test) Binary text classification problem"
   ]
  },
  {
   "cell_type": "code",
   "execution_count": 25,
   "metadata": {
    "collapsed": false
   },
   "outputs": [
    {
     "name": "stdout",
     "output_type": "stream",
     "text": [
      "array([1, 0, 0])\n",
      "\n"
     ]
    }
   ],
   "source": [
    "# Artificial (and small) dataset. Sports/Non-sports\n",
    "train_data = ['Football: a great sport', 'The referee has been very bad this season', 'Our team scored 5 goals', 'I love tenis',\n",
    "              'Politics is in decline in the UK', 'Brexit means Brexit', 'The parlament wants to create new legislation'\n",
    "              'I so want to travel the world']\n",
    "\n",
    "test_data = ['Swimming is a great sport', \n",
    "             'A lot of policy changes will happen after Brexit', \n",
    "             'The table tenis team will travel to the UK soon for the European Championship']\n",
    "\n",
    "#1: sports, 0 other\n",
    "train_labels = [1,1,1,1,0,0,0]\n",
    "test_labels = [1,0,1]\n",
    "\n",
    "# Representation of the data using TF-IDF\n",
    "vectorizer = TfidfVectorizer()\n",
    "vectorised_train_data = vectorizer.fit_transform(train_data)\n",
    "vectorised_test_data = vectorizer.transform(test_data)\n",
    "\n",
    "# Train the classifier given the training data\n",
    "classifier = LinearSVC()\n",
    "classifier.fit(vectorised_train_data, train_labels)\n",
    "\n",
    "# Predict the labels for the test documents (not used for training)\n",
    "predictions = classifier.predict(vectorised_test_data)\n",
    "\n",
    "pprint(predictions)\n",
    "print()\n",
    "\n",
    "# Why is the prediction of the last item \"non-sport\"?"
   ]
  },
  {
   "cell_type": "code",
   "execution_count": 27,
   "metadata": {
    "collapsed": false
   },
   "outputs": [
    {
     "name": "stdout",
     "output_type": "stream",
     "text": [
      "[[('sport', 0.57735026918962573),\n",
      "  ('is', 0.57735026918962573),\n",
      "  ('great', 0.57735026918962573)],\n",
      " [('brexit', 1.0)],\n",
      " [('uk', 0.3239165812325589),\n",
      "  ('travel', 0.3239165812325589),\n",
      "  ('to', 0.3239165812325589),\n",
      "  ('the', 0.68948549079226851),\n",
      "  ('tenis', 0.3239165812325589),\n",
      "  ('team', 0.3239165812325589)]]\n"
     ]
    }
   ],
   "source": [
    "pprint([feature_values(doc, vectorizer) for doc in test_data])"
   ]
  },
  {
   "cell_type": "code",
   "execution_count": 28,
   "metadata": {
    "collapsed": false
   },
   "outputs": [
    {
     "name": "stdout",
     "output_type": "stream",
     "text": [
      "array([1, 0, 1])\n",
      "\n",
      "[[('sport', 0.70710678118654757), ('great', 0.70710678118654757)],\n",
      " [('brexit', 1.0)],\n",
      " [('uk', 0.5), ('travel', 0.5), ('tenis', 0.5), ('team', 0.5)]]\n"
     ]
    }
   ],
   "source": [
    "# Lets try again... with stop-word removal\n",
    "stop_words = stopwords.words(\"english\")\n",
    "vectorizer = TfidfVectorizer(stop_words=stop_words)\n",
    "\n",
    "vectorised_train_data = vectorizer.fit_transform(train_data)\n",
    "vectorised_test_data = vectorizer.transform(test_data)\n",
    "\n",
    "classifier = LinearSVC()\n",
    "classifier.fit(vectorised_train_data, train_labels)\n",
    "\n",
    "predictions = classifier.predict(vectorised_test_data)\n",
    "\n",
    "pprint(predictions)\n",
    "print()\n",
    "\n",
    "pprint([feature_values(doc, vectorizer) for doc in test_data])"
   ]
  },
  {
   "cell_type": "markdown",
   "metadata": {},
   "source": [
    "# (Test) Multi-Class classification problem"
   ]
  },
  {
   "cell_type": "code",
   "execution_count": 38,
   "metadata": {
    "collapsed": false
   },
   "outputs": [
    {
     "name": "stdout",
     "output_type": "stream",
     "text": [
      "array([0, 0, 1])\n",
      "\n"
     ]
    }
   ],
   "source": [
    "# Artificial (and small) dataset. Spanish,English,French texts\n",
    "train_data = ['PyCon es una gran conferencia', 'Aprendizaje automatico esta listo para dominar el mundo dentro de poco',\n",
    "             'This is a great conference with a lot of amazing talks', 'AI will dominate the world in the near future',\n",
    "             'Dix chiffres por resumer le feuilleton de la loi travail']\n",
    "\n",
    "test_data = ['Estoy preparandome para dominar las olimpiadas', 'Me gustaria mucho aprender el lenguage de programacion Scala',\n",
    "             'Machine Learning is amazing']\n",
    "\n",
    "#1: sports, 0 other\n",
    "train_labels = [0,0,1,1,2]\n",
    "test_labels = [0,0,1]\n",
    "\n",
    "# Representation of the data using TF-IDF (keeping the stop-words!!)\n",
    "vectorizer = TfidfVectorizer()\n",
    "vectorised_train_data = vectorizer.fit_transform(train_data)\n",
    "vectorised_test_data = vectorizer.transform(test_data)\n",
    "\n",
    "# Train the classifier given the training data\n",
    "classifier = LinearSVC()\n",
    "classifier.fit(vectorised_train_data, train_labels)\n",
    "\n",
    "# Predict the labels for the test documents (not used for training)\n",
    "predictions = classifier.predict(vectorised_test_data)\n",
    "\n",
    "pprint(predictions)\n",
    "print()"
   ]
  },
  {
   "cell_type": "markdown",
   "metadata": {
    "collapsed": false
   },
   "source": [
    "# Data Collection Stats"
   ]
  },
  {
   "cell_type": "code",
   "execution_count": null,
   "metadata": {
    "collapsed": false
   },
   "outputs": [],
   "source": [
    "# List of documents\n",
    "documents = reuters.fileids()\n",
    "print(\"Documents: {}\".format(len(documents)))"
   ]
  },
  {
   "cell_type": "code",
   "execution_count": null,
   "metadata": {
    "collapsed": false
   },
   "outputs": [],
   "source": [
    "train_docs = list(filter(lambda doc: doc.startswith(\"train\"), documents))\n",
    "print(\"Total train documents: {}\".format(len(train_docs)))\n",
    "\n",
    "test_docs = list(filter(lambda doc: doc.startswith(\"test\"), documents))\n",
    "print(\"Total test documents: {}\".format(len(test_docs)))"
   ]
  },
  {
   "cell_type": "code",
   "execution_count": null,
   "metadata": {
    "collapsed": false
   },
   "outputs": [],
   "source": [
    "# List of categories \n",
    "categories = reuters.categories();\n",
    "print(\"Number of categories: {}\".format(len(categories)))\n",
    "\n",
    "categories"
   ]
  },
  {
   "cell_type": "code",
   "execution_count": null,
   "metadata": {
    "collapsed": false
   },
   "outputs": [],
   "source": [
    "# Documents per category. TODO: Lambdas too complex?\n",
    "category_distribution = sorted([[category, len(reuters.fileids(category))] for category in categories], \n",
    "                               key=lambda item:item[1], \n",
    "                               reverse=True)\n",
    "\n",
    "category_distribution[:10]"
   ]
  },
  {
   "cell_type": "code",
   "execution_count": null,
   "metadata": {
    "collapsed": false
   },
   "outputs": [],
   "source": [
    "category_distribution[-10:]"
   ]
  },
  {
   "cell_type": "code",
   "execution_count": null,
   "metadata": {
    "collapsed": false
   },
   "outputs": [],
   "source": [
    "# Number of labels (different than number of documents...)\n",
    "sum([distribution for category, distribution in category_distribution])"
   ]
  },
  {
   "cell_type": "code",
   "execution_count": null,
   "metadata": {
    "collapsed": false,
    "scrolled": true
   },
   "outputs": [],
   "source": [
    "# Documents with multiple labels\n",
    "doc = 'training/9865'\n",
    "print(reuters.raw(doc))\n",
    "\n",
    "reuters.categories(doc)"
   ]
  },
  {
   "cell_type": "code",
   "execution_count": null,
   "metadata": {
    "collapsed": true
   },
   "outputs": [],
   "source": [
    "\n"
   ]
  },
  {
   "cell_type": "code",
   "execution_count": null,
   "metadata": {
    "collapsed": false
   },
   "outputs": [],
   "source": [
    "# Tokenisation \n",
    "vectorizer = TfidfVectorizer()\n",
    "\n",
    "# Learn and transform train documents\n",
    "vectorised_train_documents = vectorizer.fit_transform(train_docs)\n",
    "vectorised_test_documents = vectorizer.transform(test_docs)\n",
    "\n",
    "# Transform multilabel labels\n",
    "mlb = MultiLabelBinarizer()\n",
    "train_labels = mlb.fit_transform([reuters.categories(document) for document in train_docs])\n",
    "test_labels = mlb.fit_transform([reuters.categories(document) for document in test_docs])\n",
    "\n",
    "# Classifier \n",
    "classifier = OneVsRestClassifier(LinearSVC())\n",
    "classifier.fit(vectorised_train_documents, train_labels)\n",
    "predictions = classifier.predict(vectorised_test_documents)\n",
    "\n",
    "sum([sum(prediction) for prediction in predictions])"
   ]
  },
  {
   "cell_type": "code",
   "execution_count": null,
   "metadata": {
    "collapsed": true
   },
   "outputs": [],
   "source": [
    "y = mlb.fit_transform(all_labels)\n",
    "    classifier = OneVsRestClassifier(LinearSVC())\n",
    "\n",
    "    scores = cross_val_score(classifier, X, y=y, cv=10, scoring='f1_micro')\n",
    "    print(\"Average F1: {}\".format(np.mean(scores)))"
   ]
  }
 ],
 "metadata": {
  "kernelspec": {
   "display_name": "Python 3",
   "language": "python",
   "name": "python3"
  },
  "language_info": {
   "codemirror_mode": {
    "name": "ipython",
    "version": 3
   },
   "file_extension": ".py",
   "mimetype": "text/x-python",
   "name": "python",
   "nbconvert_exporter": "python",
   "pygments_lexer": "ipython3",
   "version": "3.5.1"
  }
 },
 "nbformat": 4,
 "nbformat_minor": 0
}
