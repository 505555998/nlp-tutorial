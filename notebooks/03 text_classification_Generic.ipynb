{
 "cells": [
  {
   "cell_type": "code",
   "execution_count": null,
   "metadata": {
    "collapsed": true
   },
   "outputs": [],
   "source": [
    "from nltk.corpus import reuters\n",
    "from sklearn.feature_extraction.text import TfidfVectorizer\n",
    "from sklearn.preprocessing import MultiLabelBinarizer\n",
    "from sklearn.svm import LinearSVC\n",
    "from sklearn.cross_validation import cross_val_score\n",
    "from sklearn.multiclass import OneVsRestClassifier\n",
    "from sklearn.metrics import f1_score, precision_score, recall_score\n",
    "from pprint import pprint\n",
    "from nltk.corpus import stopwords"
   ]
  },
  {
   "cell_type": "code",
   "execution_count": null,
   "metadata": {
    "collapsed": true
   },
   "outputs": [],
   "source": [
    "# Function to show the feature weights of a document (to be explained later)\n",
    "def feature_values(doc, representer):\n",
    "    doc_representation = representer.transform([doc])\n",
    "    features = representer.get_feature_names()\n",
    "    return [(features[index], doc_representation[0, index]) for index in doc_representation.nonzero()[1]]"
   ]
  },
  {
   "cell_type": "markdown",
   "metadata": {},
   "source": [
    "# Binary text classification problem"
   ]
  },
  {
   "cell_type": "code",
   "execution_count": null,
   "metadata": {
    "collapsed": false
   },
   "outputs": [],
   "source": [
    "# Artificial (and small) dataset. Sports/Non-sports\n",
    "train_data = ['Football: a great sport', 'The referee has been very bad this season', 'Our team scored 5 goals', 'I love tenis',\n",
    "              'Politics is in decline in the UK', 'Brexit means Brexit', 'The parlament wants to create new legislation'\n",
    "              'I so want to travel the world']\n",
    "\n",
    "test_data = ['Swimming is a great sport', \n",
    "             'A lot of policy changes will happen after Brexit', \n",
    "             'The table tenis team will travel to the UK soon for the European Championship']\n",
    "\n",
    "train_labels = [\"Sports\",\"Sports\",\"Sports\",\"Sports\", \"Non Sports\", \"Non Sports\", \"Non Sports\"]\n",
    "test_labels = [\"Sports\",\"Non Sports\",\"Sports\"]\n",
    "\n",
    "# Representation of the data using TF-IDF\n",
    "vectorizer = TfidfVectorizer()\n",
    "vectorised_train_data = vectorizer.fit_transform(train_data)\n",
    "vectorised_test_data = vectorizer.transform(test_data)\n",
    "\n",
    "# Train the classifier given the training data\n",
    "classifier = LinearSVC()\n",
    "classifier.fit(vectorised_train_data, train_labels)\n",
    "\n",
    "# Predict the labels for the test documents (not used for training)\n",
    "print(classifier.predict(vectorised_test_data))\n",
    "\n",
    "# Why is the prediction of the last item \"non-sport\"?"
   ]
  },
  {
   "cell_type": "code",
   "execution_count": null,
   "metadata": {
    "collapsed": false
   },
   "outputs": [],
   "source": [
    "pprint([feature_values(doc, vectorizer) for doc in test_data])"
   ]
  },
  {
   "cell_type": "code",
   "execution_count": null,
   "metadata": {
    "collapsed": false
   },
   "outputs": [],
   "source": [
    "# Lets try again... with stop-word removal\n",
    "stop_words = stopwords.words(\"english\")\n",
    "vectorizer = TfidfVectorizer(stop_words=stop_words)\n",
    "\n",
    "vectorised_train_data = vectorizer.fit_transform(train_data)\n",
    "vectorised_test_data = vectorizer.transform(test_data)\n",
    "\n",
    "classifier = LinearSVC()\n",
    "classifier.fit(vectorised_train_data, train_labels)\n",
    "\n",
    "print(classifier.predict(vectorised_test_data))\n",
    "print()\n",
    "\n",
    "pprint([feature_values(doc, vectorizer) for doc in test_data])"
   ]
  },
  {
   "cell_type": "markdown",
   "metadata": {},
   "source": [
    "# Multi-Class classification problem"
   ]
  },
  {
   "cell_type": "code",
   "execution_count": null,
   "metadata": {
    "collapsed": false
   },
   "outputs": [],
   "source": [
    "# Artificial (and small) dataset. Spanish,English,French texts\n",
    "train_data = ['PyCon es una gran conferencia', 'Aprendizaje automatico esta listo para dominar el mundo dentro de poco',\n",
    "             'This is a great conference with a lot of amazing talks', 'AI will dominate the world in the near future',\n",
    "             'Dix chiffres por resumer le feuilleton de la loi travail']\n",
    "\n",
    "test_data = ['Estoy preparandome para dominar las olimpiadas', 'Me gustaria mucho aprender el lenguage de programacion Scala',\n",
    "             'Machine Learning is amazing']\n",
    "\n",
    "# spanish: 0, english: 1, French: 2\n",
    "train_labels = [\"SP\", \"SP\", \"EN\", \"EN\", \"FR\"]\n",
    "test_labels = [\"SP\", \"SP\", \"EN\"]\n",
    "\n",
    "vectorizer = TfidfVectorizer()\n",
    "vectorised_train_data = vectorizer.fit_transform(train_data)\n",
    "vectorised_test_data = vectorizer.transform(test_data)\n",
    "\n",
    "classifier = LinearSVC()\n",
    "classifier.fit(vectorised_train_data, train_labels)\n",
    "\n",
    "predictions = classifier.predict(vectorised_test_data)\n",
    "\n",
    "pprint(predictions)\n",
    "print()\n",
    "\n",
    "pprint([feature_values(doc, vectorizer) for doc in test_data])"
   ]
  },
  {
   "cell_type": "markdown",
   "metadata": {},
   "source": [
    "# Multi-label Problem"
   ]
  },
  {
   "cell_type": "code",
   "execution_count": null,
   "metadata": {
    "collapsed": false
   },
   "outputs": [],
   "source": [
    "# Artificial (and small) dataset. Sports and Politics\n",
    "train_data = ['Football: a great sport', 'The referee has been very bad this season', 'Our team scored 5 goals', 'I love tenis',\n",
    "              'Politics is in decline in the UK', 'Brexit means Brexit', 'The parlament wants to create new legislation'\n",
    "              'I so want to travel the world', \n",
    "              'The goverment will increase the budget for sports in the UK after the victories in the Olimpic Games']\n",
    "\n",
    "test_data = ['Swimming is a great sport', \n",
    "             'A lot of policy changes will happen after Brexit', \n",
    "             'The table tenis team will travel to the UK soon for the European Championship',\n",
    "             'The goverment will increase the budget for sports in the UK after the victories in the Olimpic Games']\n",
    "\n",
    "train_labels = [[\"Sports\"], [\"Sports\"], [\"Sports\"], [\"Sports\"],[\"Politics\"],[\"Politics\"],[\"Politics\"],[\"Politics\", \"Sports\"]]\n",
    "test_labels = [[\"Sports\"], [\"Politics\"], [\"Sports\"], [\"Politics\",\"Sports\"]]\n",
    "\n",
    "# Change the representation\n",
    "mlb = MultiLabelBinarizer()\n",
    "binary_train_labels = mlb.fit_transform(train_labels)\n",
    "binary_test_labels = mlb.transform(test_labels)\n",
    "\n",
    "binary_train_labels"
   ]
  },
  {
   "cell_type": "code",
   "execution_count": null,
   "metadata": {
    "collapsed": false
   },
   "outputs": [],
   "source": [
    "vectorizer = TfidfVectorizer(stop_words=stop_words)\n",
    "vectorised_train_data = vectorizer.fit_transform(train_data)\n",
    "vectorised_test_data = vectorizer.transform(test_data)\n",
    "\n",
    "classifier = OneVsRestClassifier(LinearSVC())\n",
    "classifier.fit(vectorised_train_data, binary_train_labels)\n",
    "\n",
    "predictions = classifier.predict(vectorised_test_data)\n",
    "\n",
    "print(predictions)\n",
    "print()\n",
    "\n",
    "print(mlb.inverse_transform(predictions))"
   ]
  },
  {
   "cell_type": "markdown",
   "metadata": {},
   "source": [
    "# Evaluation"
   ]
  },
  {
   "cell_type": "code",
   "execution_count": null,
   "metadata": {
    "collapsed": false
   },
   "outputs": [],
   "source": [
    "# Binary problem\n",
    "binary_labels = [1, 0, 1]\n",
    "binary_predictions = [1, 0, 0]\n",
    "\n",
    "# Quality values (with respect to class 1 by default)\n",
    "print(\"Binary quality\")\n",
    "print(\"Precision: {}, Recall: {}, F1-measure: {}\".format(precision_score(binary_labels, binary_predictions),\n",
    "                                                         recall_score(binary_labels, binary_predictions),\n",
    "                                                         f1_score(binary_labels, binary_predictions)))\n",
    "\n",
    "binary_labels = [\"A\", \"B\", \"A\"]\n",
    "binary_predictions = [\"A\", \"B\", \"B\"]\n",
    "\n",
    "# Quality values (with respect to class A)\n",
    "print(\"Precision: {}, Recall: {}, F1-measure: {}\".format(precision_score(binary_labels, binary_predictions, pos_label=\"A\"),\n",
    "                                                         recall_score(binary_labels, binary_predictions, pos_label=\"A\"),\n",
    "                                                         f1_score(binary_labels, binary_predictions, pos_label=\"A\")))"
   ]
  },
  {
   "cell_type": "code",
   "execution_count": null,
   "metadata": {
    "collapsed": false
   },
   "outputs": [],
   "source": [
    "# Multi-Class\n",
    "multi_class_labels = [0, 0, 0, 0, 0, 1, 1, 2]\n",
    "multi_class_predictions = [0, 0, 0, 0, 0, 1, 2, 1]\n",
    "\n",
    "# Quality must be given per category or aggregated when dealing with multiclass data\n",
    "\n",
    "print(\"Precision per category (0, 1, 2) {}\".format(precision_score(multi_class_labels, multi_class_predictions, average=None)))\n",
    "print(\"Micro-average Precision {}\".format(precision_score(multi_class_labels, multi_class_predictions, average='micro')))\n",
    "print(\"Macro-average Precision {}\".format(precision_score(multi_class_labels, multi_class_predictions, average='macro')))\n",
    "print()\n",
    "\n",
    "\n",
    "print(\"Micro-average quality numbers\")\n",
    "print(\"Precision: {}, Recall: {}, F1-measure: {}\".format(precision_score(multi_class_labels, multi_class_predictions, average='micro'),\n",
    "                                                         recall_score(multi_class_labels, multi_class_predictions, average='micro'),\n",
    "                                                         f1_score(multi_class_labels, multi_class_predictions, average='micro')))\n"
   ]
  },
  {
   "cell_type": "code",
   "execution_count": null,
   "metadata": {
    "collapsed": false
   },
   "outputs": [],
   "source": [
    "# Multi-Class\n",
    "multi_class_labels = [[0], [0], [0], [0], [0], [1], [1], [2]]\n",
    "multi_class_predictions = [[0], [0], [0], [0], [0], [1], [2], [1, 2]]\n",
    "\n",
    "binarised_labels = mlb.fit_transform(multi_class_labels)\n",
    "binarised_decisions = mlb.transform(multi_class_predictions)\n",
    "\n",
    "print(\"Micro-average Precision {}\".format(precision_score(binarised_labels, binarised_decisions, average='micro')))\n",
    "print(\"Macro-average Precision {}\".format(precision_score(binarised_labels, binarised_decisions, average='macro')))\n",
    "print()\n",
    "\n",
    "print(\"Micro-average quality numbers\")\n",
    "print(\"Precision: {}, Recall: {}, F1-measure: {}\".format(precision_score(binarised_labels, binarised_decisions, average='micro'),\n",
    "                                                         recall_score(binarised_labels, binarised_decisions, average='micro'),\n",
    "                                                         f1_score(binarised_labels, binarised_decisions, average='micro')))\n"
   ]
  }
 ],
 "metadata": {
  "kernelspec": {
   "display_name": "Python 3",
   "language": "python",
   "name": "python3"
  },
  "language_info": {
   "codemirror_mode": {
    "name": "ipython",
    "version": 3
   },
   "file_extension": ".py",
   "mimetype": "text/x-python",
   "name": "python",
   "nbconvert_exporter": "python",
   "pygments_lexer": "ipython3",
   "version": "3.4.1"
  }
 },
 "nbformat": 4,
 "nbformat_minor": 0
}
