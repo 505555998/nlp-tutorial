{
 "cells": [
  {
   "cell_type": "code",
   "execution_count": 1,
   "metadata": {
    "collapsed": true
   },
   "outputs": [],
   "source": [
    "from nltk.corpus import reuters\n",
    "from sklearn.feature_extraction.text import TfidfVectorizer\n",
    "from sklearn.preprocessing import MultiLabelBinarizer\n",
    "from sklearn.svm import LinearSVC\n",
    "from sklearn.cross_validation import cross_val_score\n",
    "from sklearn.multiclass import OneVsRestClassifier\n",
    "from pprint import pprint\n",
    "from nltk.corpus import stopwords"
   ]
  },
  {
   "cell_type": "code",
   "execution_count": 2,
   "metadata": {
    "collapsed": true
   },
   "outputs": [],
   "source": [
    "# Function to show the feature weights of a document (to be explained later)\n",
    "def feature_values(doc, representer):\n",
    "    doc_representation = representer.transform([doc])\n",
    "    features = representer.get_feature_names()\n",
    "    return [(features[index], doc_representation[0, index]) for index in doc_representation.nonzero()[1]]"
   ]
  },
  {
   "cell_type": "markdown",
   "metadata": {},
   "source": [
    "# (Test) Binary text classification problem"
   ]
  },
  {
   "cell_type": "code",
   "execution_count": 25,
   "metadata": {
    "collapsed": false
   },
   "outputs": [
    {
     "name": "stdout",
     "output_type": "stream",
     "text": [
      "array([1, 0, 0])\n",
      "\n"
     ]
    }
   ],
   "source": [
    "# Artificial (and small) dataset. Sports/Non-sports\n",
    "train_data = ['Football: a great sport', 'The referee has been very bad this season', 'Our team scored 5 goals', 'I love tenis',\n",
    "              'Politics is in decline in the UK', 'Brexit means Brexit', 'The parlament wants to create new legislation'\n",
    "              'I so want to travel the world']\n",
    "\n",
    "test_data = ['Swimming is a great sport', \n",
    "             'A lot of policy changes will happen after Brexit', \n",
    "             'The table tenis team will travel to the UK soon for the European Championship']\n",
    "\n",
    "#1: sports, 0 other\n",
    "train_labels = [1,1,1,1,0,0,0]\n",
    "test_labels = [1,0,1]\n",
    "\n",
    "# Representation of the data using TF-IDF\n",
    "vectorizer = TfidfVectorizer()\n",
    "vectorised_train_data = vectorizer.fit_transform(train_data)\n",
    "vectorised_test_data = vectorizer.transform(test_data)\n",
    "\n",
    "# Train the classifier given the training data\n",
    "classifier = LinearSVC()\n",
    "classifier.fit(vectorised_train_data, train_labels)\n",
    "\n",
    "# Predict the labels for the test documents (not used for training)\n",
    "predictions = classifier.predict(vectorised_test_data)\n",
    "\n",
    "pprint(predictions)\n",
    "print()\n",
    "\n",
    "# Why is the prediction of the last item \"non-sport\"?"
   ]
  },
  {
   "cell_type": "code",
   "execution_count": 27,
   "metadata": {
    "collapsed": false
   },
   "outputs": [
    {
     "name": "stdout",
     "output_type": "stream",
     "text": [
      "[[('sport', 0.57735026918962573),\n",
      "  ('is', 0.57735026918962573),\n",
      "  ('great', 0.57735026918962573)],\n",
      " [('brexit', 1.0)],\n",
      " [('uk', 0.3239165812325589),\n",
      "  ('travel', 0.3239165812325589),\n",
      "  ('to', 0.3239165812325589),\n",
      "  ('the', 0.68948549079226851),\n",
      "  ('tenis', 0.3239165812325589),\n",
      "  ('team', 0.3239165812325589)]]\n"
     ]
    }
   ],
   "source": [
    "pprint([feature_values(doc, vectorizer) for doc in test_data])"
   ]
  },
  {
   "cell_type": "code",
   "execution_count": 28,
   "metadata": {
    "collapsed": false
   },
   "outputs": [
    {
     "name": "stdout",
     "output_type": "stream",
     "text": [
      "array([1, 0, 1])\n",
      "\n",
      "[[('sport', 0.70710678118654757), ('great', 0.70710678118654757)],\n",
      " [('brexit', 1.0)],\n",
      " [('uk', 0.5), ('travel', 0.5), ('tenis', 0.5), ('team', 0.5)]]\n"
     ]
    }
   ],
   "source": [
    "# Lets try again... with stop-word removal\n",
    "stop_words = stopwords.words(\"english\")\n",
    "vectorizer = TfidfVectorizer(stop_words=stop_words)\n",
    "\n",
    "vectorised_train_data = vectorizer.fit_transform(train_data)\n",
    "vectorised_test_data = vectorizer.transform(test_data)\n",
    "\n",
    "classifier = LinearSVC()\n",
    "classifier.fit(vectorised_train_data, train_labels)\n",
    "\n",
    "predictions = classifier.predict(vectorised_test_data)\n",
    "\n",
    "pprint(predictions)\n",
    "print()\n",
    "\n",
    "pprint([feature_values(doc, vectorizer) for doc in test_data])"
   ]
  },
  {
   "cell_type": "markdown",
   "metadata": {},
   "source": [
    "# (Test) Multi-Class classification problem"
   ]
  },
  {
   "cell_type": "code",
   "execution_count": 38,
   "metadata": {
    "collapsed": false
   },
   "outputs": [
    {
     "name": "stdout",
     "output_type": "stream",
     "text": [
      "array([0, 0, 1])\n",
      "\n"
     ]
    }
   ],
   "source": [
    "# Artificial (and small) dataset. Spanish,English,French texts\n",
    "train_data = ['PyCon es una gran conferencia', 'Aprendizaje automatico esta listo para dominar el mundo dentro de poco',\n",
    "             'This is a great conference with a lot of amazing talks', 'AI will dominate the world in the near future',\n",
    "             'Dix chiffres por resumer le feuilleton de la loi travail']\n",
    "\n",
    "test_data = ['Estoy preparandome para dominar las olimpiadas', 'Me gustaria mucho aprender el lenguage de programacion Scala',\n",
    "             'Machine Learning is amazing']\n",
    "\n",
    "#1: sports, 0 other\n",
    "train_labels = [0,0,1,1,2]\n",
    "test_labels = [0,0,1]\n",
    "\n",
    "vectorizer = TfidfVectorizer(stop_words=stop_words)\n",
    "\n",
    "vectorised_train_data = vectorizer.fit_transform(train_data)\n",
    "vectorised_test_data = vectorizer.transform(test_data)\n",
    "\n",
    "classifier = LinearSVC()\n",
    "classifier.fit(vectorised_train_data, train_labels)\n",
    "\n",
    "predictions = classifier.predict(vectorised_test_data)\n",
    "\n",
    "pprint(predictions)\n",
    "print()\n",
    "\n",
    "pprint([feature_values(doc, vectorizer) for doc in test_data])"
   ]
  },
  {
   "cell_type": "markdown",
   "metadata": {},
   "source": [
    "# (Test) Multi-label Problem"
   ]
  },
  {
   "cell_type": "code",
   "execution_count": 65,
   "metadata": {
    "collapsed": false
   },
   "outputs": [
    {
     "data": {
      "text/plain": [
       "array([[0, 1],\n",
       "       [0, 1],\n",
       "       [0, 1],\n",
       "       [0, 1],\n",
       "       [1, 0],\n",
       "       [1, 0],\n",
       "       [1, 0],\n",
       "       [1, 1]])"
      ]
     },
     "execution_count": 65,
     "metadata": {},
     "output_type": "execute_result"
    }
   ],
   "source": [
    "# Artificial (and small) dataset. Sports and Politics\n",
    "train_data = ['Football: a great sport', 'The referee has been very bad this season', 'Our team scored 5 goals', 'I love tenis',\n",
    "              'Politics is in decline in the UK', 'Brexit means Brexit', 'The parlament wants to create new legislation'\n",
    "              'I so want to travel the world', \n",
    "              'The goverment will increase the budget for sports in the UK after the victories in the Olimpic Games']\n",
    "\n",
    "test_data = ['Swimming is a great sport', \n",
    "             'A lot of policy changes will happen after Brexit', \n",
    "             'The table tenis team will travel to the UK soon for the European Championship',\n",
    "            'The goverment will increase the budget for sports in the UK after the victories in the Olimpic Games']\n",
    "\n",
    "#1: sports, 0 other. Notice the last item of the list has two labels!!\n",
    "train_labels = [[1],[1],[1],[1],[0],[0],[0],[0,1]]\n",
    "test_labels = [[1],[0],[1],[0,1]]\n",
    "\n",
    "# Change the representation\n",
    "mlb = MultiLabelBinarizer()\n",
    "binary_train_labels = mlb.fit_transform(train_labels)\n",
    "binary_test_labels = mlb.transform(test_labels)\n",
    "\n",
    "binary_train_labels"
   ]
  },
  {
   "cell_type": "code",
   "execution_count": 66,
   "metadata": {
    "collapsed": false
   },
   "outputs": [
    {
     "data": {
      "text/plain": [
       "array([[0, 1],\n",
       "       [1, 0],\n",
       "       [0, 1],\n",
       "       [1, 1]])"
      ]
     },
     "execution_count": 66,
     "metadata": {},
     "output_type": "execute_result"
    }
   ],
   "source": [
    "vectorizer = TfidfVectorizer(stop_words=stop_words)\n",
    "vectorised_train_data = vectorizer.fit_transform(train_data)\n",
    "vectorised_test_data = vectorizer.transform(test_data)\n",
    "\n",
    "classifier = OneVsRestClassifier(LinearSVC())\n",
    "classifier.fit(vectorised_train_data, binary_train_labels)\n",
    "\n",
    "predictions = classifier.predict(vectorised_test_data)\n",
    "\n",
    "predictions"
   ]
  }
 ],
 "metadata": {
  "kernelspec": {
   "display_name": "Python 3",
   "language": "python",
   "name": "python3"
  },
  "language_info": {
   "codemirror_mode": {
    "name": "ipython",
    "version": 3
   },
   "file_extension": ".py",
   "mimetype": "text/x-python",
   "name": "python",
   "nbconvert_exporter": "python",
   "pygments_lexer": "ipython3",
   "version": "3.5.1"
  }
 },
 "nbformat": 4,
 "nbformat_minor": 0
}
